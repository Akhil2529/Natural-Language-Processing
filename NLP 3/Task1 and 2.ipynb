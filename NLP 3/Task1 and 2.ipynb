{
  "cells": [
    {
      "cell_type": "markdown",
      "metadata": {
        "id": "PdzFZCGKxKLE"
      },
      "source": [
        "## Q1"
      ]
    },
    {
      "cell_type": "code",
      "execution_count": 3,
      "metadata": {
        "id": "Rdvb4-uExKLH"
      },
      "outputs": [],
      "source": [
        "number = 1733"
      ]
    },
    {
      "cell_type": "code",
      "execution_count": 6,
      "metadata": {
        "colab": {
          "base_uri": "https://localhost:8080/"
        },
        "id": "vmTry74IxKLI",
        "outputId": "d4ace882-b514-4b64-d19b-54c82a59cd16"
      },
      "outputs": [
        {
          "output_type": "stream",
          "name": "stderr",
          "text": [
            "[nltk_data] Downloading package stopwords to /root/nltk_data...\n",
            "[nltk_data]   Package stopwords is already up-to-date!\n"
          ]
        }
      ],
      "source": [
        "import numpy as np\n",
        "import pandas as pd\n",
        "import nltk\n",
        "from nltk.corpus import stopwords\n",
        "from gensim.models import Word2Vec\n",
        "import re\n",
        "import os\n",
        "from sklearn.preprocessing import LabelEncoder\n",
        "\n",
        "nltk.download('stopwords')\n",
        "stop_words = set(stopwords.words('english'))\n",
        "\n",
        "def preprocess_text(text):\n",
        "    # Remove special characters and punctuation\n",
        "    text = re.sub('[^A-Za-z0-9\\s]+', '', text)\n",
        "    # Convert to lowercase\n",
        "    text = text.lower()\n",
        "    # Remove stopwords\n",
        "    text = ' '.join([word for word in text.split() if word not in stop_words])\n",
        "    return text\n",
        "\n",
        "def train_word_embeddings(data, embedding_size=100, window_size=5, min_count=1):\n",
        "    # Preprocess text\n",
        "    preprocessed_data = [preprocess_text(text) for text in data]\n",
        "    # Convert preprocessed text to list of sentences\n",
        "    sentences = [text.split() for text in preprocessed_data]\n",
        "    # Train word embeddings\n",
        "    #sentences, vector_size=embedding_size, window=window_size, min_count=min_count, workers=4, epochs=10\n",
        "    model = Word2Vec(sentences, vector_size=embedding_size, window=window_size, min_count=min_count, workers=4, epochs=10)\n",
        "    return model\n",
        "\n",
        "# Load dataset\n",
        "data = []\n",
        "labels = []\n",
        "for label in ['neg', 'pos']:\n",
        "    folder_path = os.path.join(r'/content/drive/MyDrive/Comments', label)\n",
        "    for file in os.listdir(folder_path):\n",
        "        file_path = os.path.join(folder_path, file)\n",
        "        with open(file_path, 'r', encoding='utf-8') as f:\n",
        "            text = f.read()\n",
        "            data.append(preprocess_text(text))\n",
        "            labels.append(label)\n",
        "le = LabelEncoder()\n",
        "labels = le.fit_transform(labels)\n",
        "# Split dataset into training, validation and testing subsets\n",
        "train_size = int(0.7 * len(data))\n",
        "val_size = int(0.15 * len(data))"
      ]
    },
    {
      "cell_type": "code",
      "source": [
        "from sklearn.model_selection import train_test_split\n",
        "X_train, X_test, y_train, y_test = train_test_split(data, labels, test_size=0.3, random_state=number)\n",
        "\n",
        "# train_data = data[:train_size]\n",
        "# train_labels = labels[:train_size]\n",
        "# val_data = data[train_size:train_size+val_size]\n",
        "# val_labels = labels[train_size:train_size+val_size]\n",
        "# test_data = data[train_size+val_size:]\n",
        "# test_labels = labels[train_size+val_size:]\n",
        "\n",
        "# Train word embeddings\n",
        "embedding_size = 100\n",
        "window_size = 3\n",
        "min_count = 1\n",
        "\n",
        "word_embeddings = train_word_embeddings(X_train, embedding_size=embedding_size, window_size=window_size, min_count=min_count)\n"
      ],
      "metadata": {
        "id": "-cZem0YM8CqJ"
      },
      "execution_count": 7,
      "outputs": []
    },
    {
      "cell_type": "code",
      "source": [
        "X_val, X_test, y_val, y_test = train_test_split(X_test, y_test, test_size=0.5, random_state=number)"
      ],
      "metadata": {
        "id": "WQPfsPuf8v10"
      },
      "execution_count": 8,
      "outputs": []
    },
    {
      "cell_type": "code",
      "source": [
        "from google.colab import drive\n",
        "drive.mount('/content/drive')"
      ],
      "metadata": {
        "colab": {
          "base_uri": "https://localhost:8080/"
        },
        "id": "AY1yHIUMxO37",
        "outputId": "58657675-0cb6-449c-e023-b83c552a775e"
      },
      "execution_count": 5,
      "outputs": [
        {
          "output_type": "stream",
          "name": "stdout",
          "text": [
            "Mounted at /content/drive\n"
          ]
        }
      ]
    },
    {
      "cell_type": "code",
      "source": [
        "import tensorflow as tf\n",
        "from tensorflow.keras.preprocessing.text import Tokenizer\n",
        "from tensorflow.keras.preprocessing.sequence import pad_sequences\n",
        "tokenizer = Tokenizer()\n",
        "tokenizer.fit_on_texts(X_train)\n",
        "\n",
        "train_sequences = tokenizer.texts_to_sequences(X_train)\n",
        "val_sequences = tokenizer.texts_to_sequences(X_val)\n",
        "test_sequences = tokenizer.texts_to_sequences(X_test)\n",
        "\n",
        "# Pad sequences to the same length\n",
        "max_len = 100\n",
        "\n",
        "train_padded = pad_sequences(train_sequences, maxlen=max_len, padding='post', truncating='post')\n",
        "val_padded = pad_sequences(val_sequences, maxlen=max_len, padding='post', truncating='post')\n",
        "test_padded = pad_sequences(test_sequences, maxlen=max_len, padding='post', truncating='post')"
      ],
      "metadata": {
        "id": "_ziDd4MKRcbe"
      },
      "execution_count": 11,
      "outputs": []
    },
    {
      "cell_type": "code",
      "execution_count": 21,
      "metadata": {
        "colab": {
          "base_uri": "https://localhost:8080/"
        },
        "id": "q4Eyv7_txKLK",
        "outputId": "fa17a95b-6e02-4f63-d4c6-69477dad3bbc"
      },
      "outputs": [
        {
          "output_type": "stream",
          "name": "stdout",
          "text": [
            "Epoch 1/10\n",
            "547/547 [==============================] - 8s 11ms/step - loss: 0.5513 - accuracy: 0.7238 - val_loss: 0.4632 - val_accuracy: 0.7843\n",
            "Epoch 2/10\n",
            "547/547 [==============================] - 6s 10ms/step - loss: 0.4134 - accuracy: 0.8119 - val_loss: 0.4602 - val_accuracy: 0.7840\n",
            "Epoch 3/10\n",
            "547/547 [==============================] - 7s 12ms/step - loss: 0.3430 - accuracy: 0.8465 - val_loss: 0.5021 - val_accuracy: 0.7776\n",
            "Epoch 4/10\n",
            "547/547 [==============================] - 5s 10ms/step - loss: 0.2944 - accuracy: 0.8718 - val_loss: 0.5160 - val_accuracy: 0.7739\n",
            "Epoch 5/10\n",
            "547/547 [==============================] - 7s 14ms/step - loss: 0.2529 - accuracy: 0.8867 - val_loss: 0.6091 - val_accuracy: 0.7784\n",
            "Epoch 6/10\n",
            "547/547 [==============================] - 6s 11ms/step - loss: 0.2215 - accuracy: 0.8989 - val_loss: 0.6300 - val_accuracy: 0.7747\n",
            "Epoch 7/10\n",
            "547/547 [==============================] - 7s 12ms/step - loss: 0.1991 - accuracy: 0.9053 - val_loss: 0.6415 - val_accuracy: 0.7720\n",
            "Epoch 8/10\n",
            "547/547 [==============================] - 6s 11ms/step - loss: 0.1871 - accuracy: 0.9126 - val_loss: 0.6591 - val_accuracy: 0.7629\n",
            "Epoch 9/10\n",
            "547/547 [==============================] - 10s 18ms/step - loss: 0.1771 - accuracy: 0.9170 - val_loss: 0.7037 - val_accuracy: 0.7688\n",
            "Epoch 10/10\n",
            "547/547 [==============================] - 10s 18ms/step - loss: 0.1569 - accuracy: 0.9250 - val_loss: 0.7380 - val_accuracy: 0.7685\n",
            "118/118 - 0s - loss: 0.6945 - accuracy: 0.7776 - 408ms/epoch - 3ms/step\n",
            "Test Accuracy:  0.7775999903678894\n",
            "118/118 [==============================] - 1s 6ms/step\n",
            "tf.Tensor(\n",
            "[[1878    0]\n",
            " [1872    0]], shape=(2, 2), dtype=int32)\n"
          ]
        }
      ],
      "source": [
        "import tensorflow as tf\n",
        "from tensorflow.keras.preprocessing.text import Tokenizer\n",
        "from tensorflow.keras.preprocessing.sequence import pad_sequences\n",
        "\n",
        "# Convert comments to sequences of integers\n",
        "\n",
        "\n",
        "# Define model architecture\n",
        "embedding_matrix = np.zeros((len(tokenizer.word_index) + 1, embedding_size))\n",
        "for word, i in tokenizer.word_index.items():\n",
        "    if word in word_embeddings.wv:\n",
        "        embedding_matrix[i] = word_embeddings.wv[word]\n",
        "\n",
        "model = tf.keras.Sequential([\n",
        "    tf.keras.layers.Embedding(len(tokenizer.word_index) + 1, embedding_size, input_length=max_len,\n",
        "                              weights=[embedding_matrix], trainable=False),\n",
        "    tf.keras.layers.Flatten(),\n",
        "    tf.keras.layers.Dense(64, activation='relu'),\n",
        "    tf.keras.layers.Dropout(0.5),\n",
        "    tf.keras.layers.Dense(1, activation='sigmoid')\n",
        "])\n",
        "\n",
        "model.compile(loss='binary_crossentropy', optimizer='adam', metrics=['accuracy'])\n",
        "\n",
        "# Train model\n",
        "num_epochs = 10\n",
        "batch_size = 32\n",
        "\n",
        "history = model.fit(train_padded, y_train, epochs=num_epochs, batch_size=batch_size, validation_data=(val_padded, y_val))\n",
        "#model.fit(X_train, y_train,validation_data=(X_val, y_val), epochs=10, batch_size=32)\n",
        "# Evaluate model on test set\n",
        "test_loss, test_acc = model.evaluate(test_padded, y_test, verbose=2)\n",
        "print('Test Accuracy: ', test_acc)\n",
        "\n",
        "# Plot confusion matrix\n",
        "y_pred = model.predict(test_padded)\n",
        "y_pred=np.round(y_pred,axis=1)\n",
        "cm = tf.math.confusion_matrix(y_test, y_pred)\n",
        "print(cm)\n"
      ]
    },
    {
      "cell_type": "code",
      "source": [
        "y_pred = model.predict(test_padded)\n",
        "# y_pred=np.round(y_pred,axis=1)"
      ],
      "metadata": {
        "colab": {
          "base_uri": "https://localhost:8080/"
        },
        "id": "NH5cKcvF_FJj",
        "outputId": "4b4a01d9-8b92-4d09-bb5a-0c0638845802"
      },
      "execution_count": 24,
      "outputs": [
        {
          "output_type": "stream",
          "name": "stdout",
          "text": [
            "118/118 [==============================] - 1s 7ms/step\n"
          ]
        }
      ]
    },
    {
      "cell_type": "code",
      "source": [
        "y_test"
      ],
      "metadata": {
        "colab": {
          "base_uri": "https://localhost:8080/"
        },
        "id": "hYYQdjFm_aFc",
        "outputId": "32d56b4c-546a-4944-9302-26072d2e240c"
      },
      "execution_count": 27,
      "outputs": [
        {
          "output_type": "execute_result",
          "data": {
            "text/plain": [
              "array([0, 0, 0, ..., 1, 0, 0])"
            ]
          },
          "metadata": {},
          "execution_count": 27
        }
      ]
    },
    {
      "cell_type": "code",
      "source": [
        "import numpy as np"
      ],
      "metadata": {
        "id": "9OJeXUn7_xtt"
      },
      "execution_count": 28,
      "outputs": []
    },
    {
      "cell_type": "code",
      "source": [
        "y_pred2 = np.round(y_pred).flatten()"
      ],
      "metadata": {
        "id": "PS8FQFW9_TK8"
      },
      "execution_count": 29,
      "outputs": []
    },
    {
      "cell_type": "code",
      "source": [
        "from sklearn.metrics import confusion_matrix\n",
        "cm1 = confusion_matrix(y_pred2,y_test)"
      ],
      "metadata": {
        "id": "53toX6IHAuEK"
      },
      "execution_count": 33,
      "outputs": []
    },
    {
      "cell_type": "code",
      "source": [
        "import seaborn as sns"
      ],
      "metadata": {
        "id": "G7qF5ArN-b3x"
      },
      "execution_count": 22,
      "outputs": []
    },
    {
      "cell_type": "code",
      "source": [
        "sns.heatmap(cm1, annot=True, cmap='Blues', fmt='g')"
      ],
      "metadata": {
        "colab": {
          "base_uri": "https://localhost:8080/",
          "height": 447
        },
        "id": "s7zvScFv-i7Z",
        "outputId": "b11c7c08-c610-400f-a25f-76be2c2e8eab"
      },
      "execution_count": 36,
      "outputs": [
        {
          "output_type": "execute_result",
          "data": {
            "text/plain": [
              "<Axes: >"
            ]
          },
          "metadata": {},
          "execution_count": 36
        },
        {
          "output_type": "display_data",
          "data": {
            "text/plain": [
              "<Figure size 640x480 with 2 Axes>"
            ],
            "image/png": "[encoded data removed]"
          },
          "metadata": {}
        }
      ]
    },
    {
      "cell_type": "code",
      "source": [
        "model.save('/content/drive/MyDrive/Comments/1_model_including_embedding_layer')"
      ],
      "metadata": {
        "colab": {
          "base_uri": "https://localhost:8080/"
        },
        "id": "csU1SaY1DjU6",
        "outputId": "9d31d6e1-6b17-4e8c-b880-968fa795dca4"
      },
      "execution_count": 38,
      "outputs": [
        {
          "output_type": "stream",
          "name": "stderr",
          "text": [
            "WARNING:absl:Found untraced functions such as _update_step_xla while saving (showing 1 of 1). These functions will not be directly callable after loading.\n"
          ]
        }
      ]
    },
    {
      "cell_type": "code",
      "source": [
        "train_padded.shape"
      ],
      "metadata": {
        "colab": {
          "base_uri": "https://localhost:8080/"
        },
        "id": "ZzZAe2ZJDjYC",
        "outputId": "f148cc0d-d3aa-404f-967d-dc64cf566e27"
      },
      "execution_count": 37,
      "outputs": [
        {
          "output_type": "execute_result",
          "data": {
            "text/plain": [
              "(17500, 100)"
            ]
          },
          "metadata": {},
          "execution_count": 37
        }
      ]
    },
    {
      "cell_type": "code",
      "execution_count": 13,
      "metadata": {
        "colab": {
          "base_uri": "https://localhost:8080/"
        },
        "id": "l89BY-wQxKLK",
        "outputId": "7f7da0f4-0e8b-4de6-979c-3750eca0f144"
      },
      "outputs": [
        {
          "output_type": "stream",
          "name": "stdout",
          "text": [
            "Epoch 1/10\n",
            "69/69 [==============================] - 4s 12ms/step - loss: 4416.9780 - accuracy: 0.5025 - val_loss: 1092.5513 - val_accuracy: 0.4960\n",
            "Epoch 2/10\n",
            "69/69 [==============================] - 1s 7ms/step - loss: 1992.9703 - accuracy: 0.5029 - val_loss: 555.2484 - val_accuracy: 0.5045\n",
            "Epoch 3/10\n",
            "69/69 [==============================] - 0s 5ms/step - loss: 960.7247 - accuracy: 0.4998 - val_loss: 289.5102 - val_accuracy: 0.5195\n",
            "Epoch 4/10\n",
            "69/69 [==============================] - 0s 5ms/step - loss: 457.7003 - accuracy: 0.5074 - val_loss: 150.9700 - val_accuracy: 0.5197\n",
            "Epoch 5/10\n",
            "69/69 [==============================] - 0s 4ms/step - loss: 223.7118 - accuracy: 0.5033 - val_loss: 81.9097 - val_accuracy: 0.5091\n",
            "Epoch 6/10\n",
            "69/69 [==============================] - 0s 5ms/step - loss: 120.0521 - accuracy: 0.5057 - val_loss: 47.9157 - val_accuracy: 0.5115\n",
            "Epoch 7/10\n",
            "69/69 [==============================] - 0s 4ms/step - loss: 71.0078 - accuracy: 0.5025 - val_loss: 29.4899 - val_accuracy: 0.4963\n",
            "Epoch 8/10\n",
            "69/69 [==============================] - 0s 4ms/step - loss: 41.6888 - accuracy: 0.5046 - val_loss: 20.0260 - val_accuracy: 0.4963\n",
            "Epoch 9/10\n",
            "69/69 [==============================] - 0s 5ms/step - loss: 27.7168 - accuracy: 0.5083 - val_loss: 15.4076 - val_accuracy: 0.5083\n",
            "Epoch 10/10\n",
            "69/69 [==============================] - 0s 4ms/step - loss: 21.2588 - accuracy: 0.5066 - val_loss: 11.2561 - val_accuracy: 0.5099\n",
            "118/118 - 0s - loss: 9.3482 - accuracy: 0.4981 - 175ms/epoch - 1ms/step\n",
            "Test Accuracy:  0.4981333315372467\n"
          ]
        }
      ],
      "source": [
        "# Define model architecture\n",
        "model2 = tf.keras.Sequential([tf.keras.layers.Dense(64, activation='relu',input_shape=(100,)),\n",
        "    tf.keras.layers.Dropout(0.5),\n",
        "    tf.keras.layers.Dense(1, activation='sigmoid')\n",
        "])\n",
        "\n",
        "model2.compile(loss='binary_crossentropy', optimizer='adam', metrics=['accuracy'])\n",
        "\n",
        "# Train model\n",
        "history2 = model2.fit(train_padded, y_train, epochs=10, batch_size=256, validation_data=(val_padded, y_val))\n",
        "\n",
        "# Evaluate model on test set\n",
        "test_loss, test_acc = model2.evaluate(test_padded, y_test, verbose=2)\n",
        "print('Test Accuracy: ', test_acc)\n",
        "\n",
        "# Plot confusion matrix\n"
      ]
    },
    {
      "cell_type": "code",
      "source": [
        "import seaborn as sns\n",
        "from sklearn.metrics import confusion_matrix\n",
        "y_pred21 = model2.predict(test_padded)\n",
        "y_pred22=np.round(y_pred21).flatten()\n",
        "cm22 = confusion_matrix(y_test,y_pred22)\n",
        "sns.heatmap(cm22, annot=True, cmap='Blues', fmt='g')"
      ],
      "metadata": {
        "colab": {
          "base_uri": "https://localhost:8080/",
          "height": 465
        },
        "id": "jpx7_BoNHgRo",
        "outputId": "4c80b9a9-bed4-45ee-c1b5-a10d6b0dcd64"
      },
      "execution_count": 20,
      "outputs": [
        {
          "output_type": "stream",
          "name": "stdout",
          "text": [
            "118/118 [==============================] - 1s 4ms/step\n"
          ]
        },
        {
          "output_type": "execute_result",
          "data": {
            "text/plain": [
              "<Axes: >"
            ]
          },
          "metadata": {},
          "execution_count": 20
        },
        {
          "output_type": "display_data",
          "data": {
            "text/plain": [
              "<Figure size 640x480 with 2 Axes>"
            ],
            "image/png": "[encoded data removed]"
          },
          "metadata": {}
        }
      ]
    },
    {
      "cell_type": "code",
      "source": [
        "cm22"
      ],
      "metadata": {
        "colab": {
          "base_uri": "https://localhost:8080/"
        },
        "id": "tzqcs7rtR9ph",
        "outputId": "1651bfb3-8546-4fef-d7e2-b72bb56713f7"
      },
      "execution_count": 18,
      "outputs": [
        {
          "output_type": "execute_result",
          "data": {
            "text/plain": [
              "array([[ 702,  706],\n",
              "       [1176, 1166]])"
            ]
          },
          "metadata": {},
          "execution_count": 18
        }
      ]
    },
    {
      "cell_type": "markdown",
      "metadata": {
        "id": "uZxgTSR4xKLL"
      },
      "source": [
        "## Q2"
      ]
    },
    {
      "cell_type": "code",
      "execution_count": null,
      "metadata": {
        "id": "CgYcnw-MxKLL",
        "outputId": "cda046f7-fb8a-47c6-ce48-8aa179866fdc"
      },
      "outputs": [
        {
          "name": "stdout",
          "output_type": "stream",
          "text": [
            "Epoch 1/10, Train Loss: 0.6908220822793724, Val Loss: 0.6887604432590937\n",
            "Epoch 2/10, Train Loss: 0.6521522859587287, Val Loss: 0.6536708019547544\n",
            "Epoch 3/10, Train Loss: 0.6380945688834155, Val Loss: 0.6561519220723944\n",
            "Epoch 4/10, Train Loss: 0.6009903085710359, Val Loss: 0.6484808194435249\n",
            "Epoch 5/10, Train Loss: 0.6114181706505101, Val Loss: 0.6374850202414949\n",
            "Epoch 6/10, Train Loss: 0.4977085384791785, Val Loss: 0.5646135372630621\n",
            "Epoch 7/10, Train Loss: 0.4162685464333444, Val Loss: 0.5453914919141996\n",
            "Epoch 8/10, Train Loss: 0.3510406223418069, Val Loss: 0.5568402677269305\n",
            "Epoch 9/10, Train Loss: 0.3030809630660245, Val Loss: 0.5714961800534847\n",
            "Epoch 10/10, Train Loss: 0.2513226888203708, Val Loss: 0.6129618332547656\n",
            "Simple LSTM Classification Report:\n",
            "               precision    recall  f1-score   support\n",
            "\n",
            "           0       0.76      0.74      0.75      1875\n",
            "           1       0.75      0.77      0.76      1875\n",
            "\n",
            "    accuracy                           0.76      3750\n",
            "   macro avg       0.76      0.76      0.76      3750\n",
            "weighted avg       0.76      0.76      0.76      3750\n",
            "\n"
          ]
        }
      ],
      "source": [
        "import os\n",
        "import string\n",
        "import random\n",
        "import numpy as np\n",
        "import torch\n",
        "import torch.nn as nn\n",
        "import torch.optim as optim\n",
        "from torch.utils.data import Dataset, DataLoader\n",
        "from nltk.tokenize import word_tokenize\n",
        "from sklearn.model_selection import train_test_split\n",
        "from sklearn.metrics import classification_report\n",
        "roll = 2345\n",
        "\n",
        "# Load the data\n",
        "def load_data(root_folder):\n",
        "    texts, labels = [], []\n",
        "    for label, subfolder in enumerate(['neg', 'pos']):\n",
        "        folder_path = os.path.join(root_folder, subfolder)\n",
        "        for file in os.listdir(folder_path):\n",
        "            file_path = os.path.join(folder_path, file)\n",
        "            with open(file_path, encoding='utf-8') as f:\n",
        "                texts.append(f.read())\n",
        "                labels.append(label)\n",
        "    return texts, labels\n",
        "\n",
        "root_folder = 'comments250k\\comments250k'\n",
        "texts, labels = load_data(root_folder)\n",
        "\n",
        "# Split the data\n",
        "X_train, X_temp, y_train, y_temp = train_test_split(texts, labels, test_size=0.3, stratify=labels, random_state=roll)\n",
        "X_val, X_test, y_val, y_test = train_test_split(X_temp, y_temp, test_size=0.5, stratify=y_temp, random_state=roll)\n",
        "\n",
        "# Tokenizer\n",
        "def simple_tokenizer(text):\n",
        "    tokens = word_tokenize(text.lower())\n",
        "    return [token for token in tokens if token not in string.punctuation]\n",
        "\n",
        "# Create TextDataset and DataLoader\n",
        "class TextDataset(Dataset):\n",
        "    def __init__(self, texts, labels, tokenizer, max_seq_length):\n",
        "        self.texts = texts\n",
        "        self.labels = labels\n",
        "        self.tokenizer = tokenizer\n",
        "        self.max_seq_length = max_seq_length\n",
        "\n",
        "    def __len__(self):\n",
        "        return len(self.texts)\n",
        "\n",
        "    def __getitem__(self, idx):\n",
        "        text = self.texts[idx]\n",
        "        tokens = self.tokenizer(text)[:self.max_seq_length]\n",
        "        token_ids = [hash(token) % 10000 for token in tokens]\n",
        "        token_ids += [0] * (self.max_seq_length - len(token_ids))\n",
        "        return np.array(token_ids), self.labels[idx]\n",
        "\n",
        "batch_size = 64\n",
        "max_seq_length = 100\n",
        "\n",
        "train_dataset = TextDataset(X_train, y_train, simple_tokenizer, max_seq_length)\n",
        "val_dataset = TextDataset(X_val, y_val, simple_tokenizer, max_seq_length)\n",
        "test_dataset = TextDataset(X_test, y_test, simple_tokenizer, max_seq_length)\n",
        "\n",
        "train_loader = DataLoader(train_dataset, batch_size=batch_size, shuffle=True)\n",
        "val_loader = DataLoader(val_dataset, batch_size=batch_size, shuffle=False)\n",
        "test_loader = DataLoader(test_dataset, batch_size=batch_size, shuffle=False)\n",
        "\n",
        "# LSTM Model\n",
        "class SimpleLSTM(nn.Module):\n",
        "    def __init__(self, vocab_size, embedding_dim, hidden_size, output_size):\n",
        "        super(SimpleLSTM, self).__init__()\n",
        "        self.embedding = nn.Embedding(vocab_size, embedding_dim)\n",
        "        self.lstm = nn.LSTM(embedding_dim, hidden_size, batch_first=True)\n",
        "        self.fc = nn.Linear(hidden_size, output_size)\n",
        "\n",
        "    def forward(self, x):\n",
        "        x = self.embedding(x)\n",
        "        _, (h_n, _) = self.lstm(x)\n",
        "        return self.fc(h_n.squeeze(0))\n",
        "# RNN Model\n",
        "class SimpleRNN(nn.Module):\n",
        "    def __init__(self, vocab_size, embedding_dim, hidden_size, output_size):\n",
        "        super(SimpleRNN, self).__init__()\n",
        "        self.embedding = nn.Embedding(vocab_size, embedding_dim)\n",
        "        self.rnn = nn.RNN(embedding_dim, hidden_size, batch_first=True)\n",
        "        self.fc = nn.Linear(hidden_size, output_size)\n",
        "\n",
        "    def forward(self, x):\n",
        "        x = self.embedding(x)\n",
        "        _, h_n = self.rnn(x)\n",
        "        return self.fc(h_n.squeeze(0))\n",
        "\n",
        "# GRU Model\n",
        "class SimpleGRU(nn.Module):\n",
        "    def __init__(self, vocab_size, embedding_dim, hidden_size, output_size):\n",
        "        super(SimpleGRU, self).__init__()\n",
        "        self.embedding = nn.Embedding(vocab_size, embedding_dim)\n",
        "        self.gru = nn.GRU(embedding_dim, hidden_size, batch_first=True)\n",
        "        self.fc = nn.Linear(hidden_size, output_size)\n",
        "\n",
        "    def forward(self, x):\n",
        "        x = self.embedding(x)\n",
        "        _, h_n = self.gru(x)\n",
        "        return self.fc(h_n.squeeze(0))\n",
        "\n",
        "# Bidirectional 3-layer Stacked LSTM Model\n",
        "class BiStackedLSTM(nn.Module):\n",
        "    def __init__(self, vocab_size, embedding_dim, hidden_size, output_size, num_layers=3):\n",
        "        super(BiStackedLSTM, self).__init__()\n",
        "        self.embedding = nn.Embedding(vocab_size, embedding_dim)\n",
        "        self.lstm = nn.LSTM(embedding_dim, hidden_size, num_layers=num_layers, batch_first=True, bidirectional=True)\n",
        "        self.fc = nn.Linear(hidden_size * 2, output_size)  # Multiply by 2 for bidirectional\n",
        "\n",
        "    def forward(self, x):\n",
        "        x = self.embedding(x)\n",
        "        _, (h_n, _) = self.lstm(x)\n",
        "        h_n = torch.cat([h_n[-2,:,:], h_n[-1,:,:]], dim=1)  # Concatenate the hidden states of both directions\n",
        "        return self.fc(h_n)\n",
        "\n",
        "# Training and evaluation functions\n",
        "def train_model(model, train_loader, val_loader, device, n_epochs=10, lr=0.001):\n",
        "    model.to(device)\n",
        "    criterion = nn.CrossEntropyLoss()\n",
        "    optimizer = optim.Adam(model.parameters(), lr=lr)\n",
        "\n",
        "    for epoch in range(n_epochs):\n",
        "        model.train()\n",
        "        running_loss = 0\n",
        "        for inputs, labels in train_loader:\n",
        "            inputs, labels = inputs.to(device), labels.to(device)\n",
        "            optimizer.zero_grad()\n",
        "            outputs = model(inputs)\n",
        "            loss = criterion(outputs, labels)\n",
        "            loss.backward()\n",
        "            optimizer.step()\n",
        "            running_loss += loss.item()\n",
        "\n",
        "        # Validation\n",
        "        model.eval()\n",
        "        val_loss = 0\n",
        "        for inputs, labels in val_loader:\n",
        "            inputs, labels = inputs.to(device), labels.to(device)\n",
        "            with torch.no_grad():\n",
        "                outputs = model(inputs)\n",
        "                loss = criterion(outputs, labels)\n",
        "                val_loss += loss.item()\n",
        "\n",
        "        print(f'Epoch {epoch + 1}/{n_epochs}, Train Loss: {running_loss / len(train_loader)}, Val Loss: {val_loss / len(val_loader)}')\n",
        "\n",
        "def evaluate_model(model, test_loader, device):\n",
        "    model.eval()\n",
        "    y_true, y_pred = [], []\n",
        "    for inputs, labels in test_loader:\n",
        "        inputs, labels = inputs.to(device), labels.to(device)\n",
        "        with torch.no_grad():\n",
        "            outputs = model(inputs)\n",
        "            _, predicted = torch.max(outputs, 1)\n",
        "            y_true.extend(labels.cpu().numpy())\n",
        "            y_pred.extend(predicted.cpu().numpy())\n",
        "    return classification_report(y_true, y_pred)\n",
        "\n",
        "# Train and evaluate the SimpleLSTM model\n",
        "vocab_size = 10000\n",
        "embedding_dim = 100\n",
        "hidden_size = 128\n",
        "output_size = 2\n",
        "device = torch.device('cuda' if torch.cuda.is_available() else 'cpu')\n",
        "\n",
        "simple_lstm_model = SimpleLSTM(vocab_size, embedding_dim, hidden_size, output_size)\n",
        "train_model(simple_lstm_model, train_loader, val_loader, device)\n",
        "classification_report_ = evaluate_model(simple_lstm_model, test_loader, device)\n",
        "print(\"Simple LSTM Classification Report:\\n\", classification_report_)"
      ]
    },
    {
      "cell_type": "code",
      "execution_count": null,
      "metadata": {
        "id": "V29cnCSdxKLM"
      },
      "outputs": [],
      "source": [
        "import os\n",
        "import random\n",
        "import shutil\n",
        "\n",
        "def split_dataset(data_dir, train_ratio, val_ratio, test_ratio):\n",
        "    for class_name in ['neg', 'pos']:\n",
        "        class_dir = os.path.join(data_dir, class_name)\n",
        "        files = os.listdir(class_dir)\n",
        "        random.shuffle(files)\n",
        "        \n",
        "        train_cnt = int(train_ratio * len(files))\n",
        "        val_cnt = int(val_ratio * len(files))\n",
        "        \n",
        "        train_files = files[:train_cnt]\n",
        "        val_files = files[train_cnt:train_cnt+val_cnt]\n",
        "        test_files = files[train_cnt+val_cnt:]\n",
        "        \n",
        "        for split, file_list in zip(['train', 'val', 'test'], [train_files, val_files, test_files]):\n",
        "            split_dir = os.path.join(data_dir, split, class_name)\n",
        "            os.makedirs(split_dir, exist_ok=True)\n",
        "            \n",
        "            for file in file_list:\n",
        "                src = os.path.join(class_dir, file)\n",
        "                dst = os.path.join(split_dir, file)\n",
        "                shutil.copyfile(src, dst)\n",
        "\n",
        "data_dir = 'comments250k\\comments250k'\n",
        "split_dataset(data_dir, 0.7, 0.15, 0.15)\n"
      ]
    },
    {
      "cell_type": "code",
      "execution_count": null,
      "metadata": {
        "id": "gSokT69HxKLN",
        "outputId": "634e7a41-77d9-4e7d-a3aa-fcb4db33feff"
      },
      "outputs": [
        {
          "name": "stderr",
          "output_type": "stream",
          "text": [
            "c:\\ProgramData\\Anaconda3\\lib\\site-packages\\numpy\\_distributor_init.py:30: UserWarning: loaded more than 1 DLL from .libs:\n",
            "c:\\ProgramData\\Anaconda3\\lib\\site-packages\\numpy\\.libs\\libopenblas.GK7GX5KEQ4F6UYO3P26ULGBQYHGQO7J4.gfortran-win_amd64.dll\n",
            "c:\\ProgramData\\Anaconda3\\lib\\site-packages\\numpy\\.libs\\libopenblas.WCDJNK7YVMPZQ2ME2ZZHJJRJ3JIKNDB7.gfortran-win_amd64.dll\n",
            "  warnings.warn(\"loaded more than 1 DLL from .libs:\"\n"
          ]
        }
      ],
      "source": [
        "import torch\n",
        "from torch.utils.data import Dataset, DataLoader\n",
        "from torch.nn.utils.rnn import pad_sequence\n",
        "from torchtext.data.utils import get_tokenizer\n",
        "from torchtext.vocab import build_vocab_from_iterator\n",
        "from sklearn.preprocessing import LabelEncoder\n",
        "\n",
        "class CommentsDataset(Dataset):\n",
        "    def __init__(self, data_dir, split, vocab=None):\n",
        "        self.split = split\n",
        "        self.label_encoder = LabelEncoder()\n",
        "        self.tokenizer = get_tokenizer('basic_english')\n",
        "        self.data = []\n",
        "        self.labels = []\n",
        "        \n",
        "        for class_name in ['neg', 'pos']:\n",
        "            class_dir = os.path.join(data_dir, split, class_name)\n",
        "            files = os.listdir(class_dir)\n",
        "            for file in files[:100]:\n",
        "                with open(os.path.join(class_dir, file), 'r') as f:\n",
        "                    text = f.read()\n",
        "                self.data.append(text)\n",
        "                self.labels.append(class_name)\n",
        "                \n",
        "        self.labels = self.label_encoder.fit_transform(self.labels)\n",
        "        \n",
        "        if vocab is None:\n",
        "            self.vocab = build_vocab_from_iterator(self._tokenize_data(), specials=['<pad>', '<unk>'])\n",
        "        else:\n",
        "            self.vocab = vocab\n",
        "    \n",
        "    def _tokenize_data(self):\n",
        "        for text in self.data:\n",
        "            yield self.tokenizer(text)\n",
        "\n",
        "    def _numericalize(self, text):\n",
        "        return [self.vocab[token] if token in self.vocab else self.vocab['<unk>'] for token in self.tokenizer(text)]\n",
        "\n",
        "    def __getitem__(self, index):\n",
        "        text = self._numericalize(self.data[index])\n",
        "        return torch.tensor(text), self.labels[index]\n",
        "    \n",
        "    def __len__(self):\n",
        "        return len(self.data)\n",
        "\n",
        "def collate_fn(batch):\n",
        "    data, labels = zip(*batch)\n",
        "    data = pad_sequence(data, batch_first=True)\n",
        "    labels = torch.tensor(labels)\n",
        "    return data, labels\n",
        "\n",
        "train_dataset = CommentsDataset(data_dir, 'train')\n",
        "val_dataset = CommentsDataset(data_dir, 'val', vocab=train_dataset.vocab)\n",
        "test_dataset = CommentsDataset(data_dir, 'test', vocab=train_dataset.vocab)\n",
        "\n",
        "train_dataloader = DataLoader(train_dataset, batch_size=64, shuffle=True, collate_fn=collate_fn)\n",
        "val_dataloader = DataLoader(val_dataset, batch_size=64, shuffle=False, collate_fn=collate_fn)\n",
        "test_dataloader = DataLoader(test_dataset, batch_size=64, shuffle=False, collate_fn=collate_fn)\n"
      ]
    },
    {
      "cell_type": "code",
      "execution_count": null,
      "metadata": {
        "id": "eNHvnxxRxKLN"
      },
      "outputs": [],
      "source": [
        "import torch.nn as nn\n",
        "\n",
        "class SimpleRNN(nn.Module):\n",
        "    def __init__(self, vocab_size, embedding_dim, hidden_dim, output_dim):\n",
        "        super(SimpleRNN, self).__init__()\n",
        "        self.embedding = nn.Embedding(vocab_size, embedding_dim)\n",
        "        self.rnn = nn.RNN(embedding_dim, hidden_dim, batch_first=True)\n",
        "        self.fc = nn.Linear(hidden_dim, output_dim)\n",
        "        \n",
        "    def forward(self, x):\n",
        "        x = self.embedding(x)\n",
        "        x, _ = self.rnn(x)\n",
        "        x = self.fc(x[:, -1, :])\n",
        "        return x\n",
        "vocab_size = len(train_dataset.vocab)\n",
        "embedding_dim = 128\n",
        "hidden_dim = 256\n",
        "output_dim = 2\n",
        "\n",
        "model = SimpleRNN(vocab_size, embedding_dim, hidden_dim, output_dim)"
      ]
    },
    {
      "cell_type": "code",
      "execution_count": null,
      "metadata": {
        "id": "grtIdNBVxKLO",
        "outputId": "7b552c8c-064e-4bec-97a4-fd35c834480c"
      },
      "outputs": [
        {
          "name": "stderr",
          "output_type": "stream",
          "text": [
            "100%|██████████| 313/313 [13:18<00:00,  2.55s/it]\n",
            "100%|██████████| 110/110 [00:30<00:00,  3.63it/s]\n"
          ]
        },
        {
          "name": "stdout",
          "output_type": "stream",
          "text": [
            "Epoch 1/5, Train Loss: 0.7018, Train Acc: 49.66%, Val Loss: 0.6938, Val Acc: 49.99%\n"
          ]
        },
        {
          "name": "stderr",
          "output_type": "stream",
          "text": [
            "100%|██████████| 313/313 [16:22<00:00,  3.14s/it]\n",
            "100%|██████████| 110/110 [00:29<00:00,  3.79it/s]\n"
          ]
        },
        {
          "name": "stdout",
          "output_type": "stream",
          "text": [
            "Epoch 2/5, Train Loss: 0.7010, Train Acc: 50.87%, Val Loss: 0.7004, Val Acc: 50.03%\n"
          ]
        },
        {
          "name": "stderr",
          "output_type": "stream",
          "text": [
            "100%|██████████| 313/313 [20:41<00:00,  3.97s/it]\n",
            "100%|██████████| 110/110 [00:29<00:00,  3.72it/s]\n"
          ]
        },
        {
          "name": "stdout",
          "output_type": "stream",
          "text": [
            "Epoch 3/5, Train Loss: 0.6970, Train Acc: 49.95%, Val Loss: 0.7026, Val Acc: 50.06%\n"
          ]
        },
        {
          "name": "stderr",
          "output_type": "stream",
          "text": [
            "100%|██████████| 313/313 [09:48<00:00,  1.88s/it]\n",
            "100%|██████████| 110/110 [00:30<00:00,  3.65it/s]\n"
          ]
        },
        {
          "name": "stdout",
          "output_type": "stream",
          "text": [
            "Epoch 4/5, Train Loss: 0.6973, Train Acc: 50.34%, Val Loss: 0.6940, Val Acc: 49.94%\n"
          ]
        },
        {
          "name": "stderr",
          "output_type": "stream",
          "text": [
            "100%|██████████| 313/313 [15:19<00:00,  2.94s/it]\n",
            "100%|██████████| 110/110 [00:29<00:00,  3.70it/s]\n"
          ]
        },
        {
          "name": "stdout",
          "output_type": "stream",
          "text": [
            "Epoch 5/5, Train Loss: 0.6995, Train Acc: 50.14%, Val Loss: 0.7031, Val Acc: 50.09%\n"
          ]
        },
        {
          "name": "stderr",
          "output_type": "stream",
          "text": [
            "100%|██████████| 109/109 [00:30<00:00,  3.53it/s]"
          ]
        },
        {
          "name": "stdout",
          "output_type": "stream",
          "text": [
            "RNN Model               precision    recall  f1-score   support\n",
            "\n",
            "         neg       0.54      0.01      0.02      3449\n",
            "         pos       0.50      0.99      0.67      3480\n",
            "\n",
            "    accuracy                           0.50      6929\n",
            "   macro avg       0.52      0.50      0.34      6929\n",
            "weighted avg       0.52      0.50      0.34      6929\n",
            "\n"
          ]
        },
        {
          "name": "stderr",
          "output_type": "stream",
          "text": [
            "\n"
          ]
        }
      ],
      "source": [
        "import torch.optim as optim\n",
        "from tqdm import tqdm\n",
        "\n",
        "device = torch.device('cuda' if torch.cuda.is_available() else 'cpu')\n",
        "model.to(device)\n",
        "criterion = nn.CrossEntropyLoss()\n",
        "optimizer = optim.Adam(model.parameters(), lr=0.001)\n",
        "num_epochs = 5\n",
        "\n",
        "def train(model, dataloader, criterion, optimizer, device):\n",
        "    model.train()\n",
        "    running_loss = 0.0\n",
        "    correct = 0\n",
        "    total = 0\n",
        "    \n",
        "    for inputs, labels in tqdm(dataloader):\n",
        "        inputs = inputs.to(device)\n",
        "        labels = labels.to(device)\n",
        "        \n",
        "        optimizer.zero_grad()\n",
        "        outputs = model(inputs)\n",
        "        \n",
        "        loss = criterion(outputs, labels)\n",
        "        loss.backward()\n",
        "        optimizer.step()\n",
        "        \n",
        "        running_loss += loss.item()\n",
        "        _, predicted = outputs.max(1)\n",
        "        total += labels.size(0)\n",
        "        correct += predicted.eq(labels).sum().item()\n",
        "\n",
        "    train_loss = running_loss / len(dataloader)\n",
        "    train_acc = 100. * correct / total\n",
        "    return train_loss, train_acc\n",
        "\n",
        "def evaluate(model, dataloader, criterion, device):\n",
        "    model.eval()\n",
        "    running_loss = 0.0\n",
        "    correct = 0\n",
        "    total = 0\n",
        "    \n",
        "    with torch.no_grad():\n",
        "        for inputs, labels in tqdm(dataloader):\n",
        "            inputs = inputs.to(device)\n",
        "            labels = labels.to(device)\n",
        "            \n",
        "            outputs = model(inputs)\n",
        "            loss = criterion(outputs, labels)\n",
        "            \n",
        "            running_loss += loss.item()\n",
        "            _, predicted = outputs.max(1)\n",
        "            total += labels.size(0)\n",
        "            correct += predicted.eq(labels).sum().item()\n",
        "\n",
        "    val_loss = running_loss / len(dataloader)\n",
        "    val_acc = 100. * correct / total\n",
        "    return val_loss, val_acc\n",
        "\n",
        "for epoch in range(num_epochs):\n",
        "    train_loss, train_acc = train(model, train_dataloader, criterion, optimizer, device)\n",
        "    val_loss, val_acc = evaluate(model, val_dataloader, criterion, device)\n",
        "    print(f'Epoch {epoch+1}/{num_epochs}, Train Loss: {train_loss:.4f}, Train Acc: {train_acc:.2f}%, Val Loss: {val_loss:.4f}, Val Acc: {val_acc:.2f}%')\n",
        "\n",
        "from sklearn.metrics import classification_report\n",
        "\n",
        "def predict(model, dataloader, device):\n",
        "    model.eval()\n",
        "    predictions = []\n",
        "    labels_list = []\n",
        "\n",
        "    with torch.no_grad():\n",
        "        for inputs, labels in tqdm(dataloader):\n",
        "            inputs = inputs.to(device)\n",
        "            labels = labels.to(device)\n",
        "            \n",
        "            outputs = model(inputs)\n",
        "            _, predicted = outputs.max(1)\n",
        "            \n",
        "            predictions.extend(predicted.cpu().numpy())\n",
        "            labels_list.extend(labels.cpu().numpy())\n",
        "\n",
        "    return predictions, labels_list\n",
        "\n",
        "predictions, labels = predict(model, test_dataloader, device)\n",
        "print('RNN Model',classification_report(labels, predictions, target_names=['neg', 'pos']))\n"
      ]
    },
    {
      "cell_type": "code",
      "execution_count": null,
      "metadata": {
        "id": "1xhh4VBjxKLO"
      },
      "outputs": [],
      "source": [
        "import torch.nn as nn\n",
        "\n",
        "class SimpleLSTM(nn.Module):\n",
        "    def __init__(self, vocab_size, embedding_dim, hidden_dim, output_dim):\n",
        "        super(SimpleLSTM, self).__init__()\n",
        "        self.embedding = nn.Embedding(vocab_size, embedding_dim)\n",
        "        self.rnn = nn.LSTM(embedding_dim, hidden_dim, batch_first=True)\n",
        "        self.fc = nn.Linear(hidden_dim, output_dim)\n",
        "        \n",
        "    def forward(self, x):\n",
        "        x = self.embedding(x)\n",
        "        x, _ = self.rnn(x)\n",
        "        x = self.fc(x[:, -1, :])\n",
        "        return x\n",
        "\n",
        "vocab_size = len(train_dataset.vocab)\n",
        "embedding_dim = 128\n",
        "hidden_dim = 256\n",
        "output_dim = 2\n",
        "\n",
        "model = SimpleLSTM(vocab_size, embedding_dim, hidden_dim, output_dim)"
      ]
    },
    {
      "cell_type": "code",
      "execution_count": null,
      "metadata": {
        "id": "ww8xtHyOxKLP",
        "outputId": "f440148d-86b4-470a-875f-4e7bcec3206b"
      },
      "outputs": [
        {
          "name": "stderr",
          "output_type": "stream",
          "text": [
            "100%|██████████| 313/313 [43:36<00:00,  8.36s/it] \n",
            "100%|██████████| 110/110 [01:04<00:00,  1.71it/s]\n"
          ]
        },
        {
          "name": "stdout",
          "output_type": "stream",
          "text": [
            "Epoch 1/5, Train Loss: 0.6953, Train Acc: 49.58%, Val Loss: 0.6932, Val Acc: 50.04%\n"
          ]
        },
        {
          "name": "stderr",
          "output_type": "stream",
          "text": [
            "100%|██████████| 313/313 [45:26<00:00,  8.71s/it]\n",
            "100%|██████████| 110/110 [01:04<00:00,  1.70it/s]\n"
          ]
        },
        {
          "name": "stdout",
          "output_type": "stream",
          "text": [
            "Epoch 2/5, Train Loss: 0.6928, Train Acc: 49.83%, Val Loss: 0.6935, Val Acc: 50.00%\n"
          ]
        },
        {
          "name": "stderr",
          "output_type": "stream",
          "text": [
            "100%|██████████| 313/313 [45:34<00:00,  8.74s/it]\n",
            "100%|██████████| 110/110 [01:02<00:00,  1.75it/s]\n"
          ]
        },
        {
          "name": "stdout",
          "output_type": "stream",
          "text": [
            "Epoch 3/5, Train Loss: 0.6916, Train Acc: 50.45%, Val Loss: 0.6930, Val Acc: 50.14%\n"
          ]
        },
        {
          "name": "stderr",
          "output_type": "stream",
          "text": [
            "100%|██████████| 313/313 [43:42<00:00,  8.38s/it]\n",
            "100%|██████████| 110/110 [01:01<00:00,  1.80it/s]\n"
          ]
        },
        {
          "name": "stdout",
          "output_type": "stream",
          "text": [
            "Epoch 4/5, Train Loss: 0.6910, Train Acc: 50.01%, Val Loss: 0.6932, Val Acc: 50.27%\n"
          ]
        },
        {
          "name": "stderr",
          "output_type": "stream",
          "text": [
            "100%|██████████| 313/313 [43:49<00:00,  8.40s/it]\n",
            "100%|██████████| 110/110 [01:02<00:00,  1.76it/s]\n"
          ]
        },
        {
          "name": "stdout",
          "output_type": "stream",
          "text": [
            "Epoch 5/5, Train Loss: 0.6892, Train Acc: 50.41%, Val Loss: 0.6934, Val Acc: 50.23%\n"
          ]
        },
        {
          "name": "stderr",
          "output_type": "stream",
          "text": [
            "100%|██████████| 109/109 [01:08<00:00,  1.58it/s]\n"
          ]
        },
        {
          "name": "stdout",
          "output_type": "stream",
          "text": [
            "LSTM Model               precision    recall  f1-score   support\n",
            "\n",
            "         neg       0.74      0.01      0.02      3449\n",
            "         pos       0.50      1.00      0.67      3480\n",
            "\n",
            "    accuracy                           0.51      6929\n",
            "   macro avg       0.62      0.50      0.34      6929\n",
            "weighted avg       0.62      0.51      0.35      6929\n",
            "\n"
          ]
        }
      ],
      "source": [
        "import torch.optim as optim\n",
        "from tqdm import tqdm\n",
        "\n",
        "device = torch.device('cuda' if torch.cuda.is_available() else 'cpu')\n",
        "model.to(device)\n",
        "criterion = nn.CrossEntropyLoss()\n",
        "optimizer = optim.Adam(model.parameters(), lr=0.001)\n",
        "num_epochs = 5\n",
        "\n",
        "def train(model, dataloader, criterion, optimizer, device):\n",
        "    model.train()\n",
        "    running_loss = 0.0\n",
        "    correct = 0\n",
        "    total = 0\n",
        "    \n",
        "    for inputs, labels in tqdm(dataloader):\n",
        "        inputs = inputs.to(device)\n",
        "        labels = labels.to(device)\n",
        "        \n",
        "        optimizer.zero_grad()\n",
        "        outputs = model(inputs)\n",
        "        \n",
        "        loss = criterion(outputs, labels)\n",
        "        loss.backward()\n",
        "        optimizer.step()\n",
        "        \n",
        "        running_loss += loss.item()\n",
        "        _, predicted = outputs.max(1)\n",
        "        total += labels.size(0)\n",
        "        correct += predicted.eq(labels).sum().item()\n",
        "\n",
        "    train_loss = running_loss / len(dataloader)\n",
        "    train_acc = 100. * correct / total\n",
        "    return train_loss, train_acc\n",
        "\n",
        "def evaluate(model, dataloader, criterion, device):\n",
        "    model.eval()\n",
        "    running_loss = 0.0\n",
        "    correct = 0\n",
        "    total = 0\n",
        "    \n",
        "    with torch.no_grad():\n",
        "        for inputs, labels in tqdm(dataloader):\n",
        "            inputs = inputs.to(device)\n",
        "            labels = labels.to(device)\n",
        "            \n",
        "            outputs = model(inputs)\n",
        "            loss = criterion(outputs, labels)\n",
        "            \n",
        "            running_loss += loss.item()\n",
        "            _, predicted = outputs.max(1)\n",
        "            total += labels.size(0)\n",
        "            correct += predicted.eq(labels).sum().item()\n",
        "\n",
        "    val_loss = running_loss / len(dataloader)\n",
        "    val_acc = 100. * correct / total\n",
        "    return val_loss, val_acc\n",
        "\n",
        "for epoch in range(num_epochs):\n",
        "    train_loss, train_acc = train(model, train_dataloader, criterion, optimizer, device)\n",
        "    val_loss, val_acc = evaluate(model, val_dataloader, criterion, device)\n",
        "    print(f'Epoch {epoch+1}/{num_epochs}, Train Loss: {train_loss:.4f}, Train Acc: {train_acc:.2f}%, Val Loss: {val_loss:.4f}, Val Acc: {val_acc:.2f}%')\n",
        "\n",
        "from sklearn.metrics import classification_report\n",
        "\n",
        "def predict(model, dataloader, device):\n",
        "    model.eval()\n",
        "    predictions = []\n",
        "    labels_list = []\n",
        "\n",
        "    with torch.no_grad():\n",
        "        for inputs, labels in tqdm(dataloader):\n",
        "            inputs = inputs.to(device)\n",
        "            labels = labels.to(device)\n",
        "            \n",
        "            outputs = model(inputs)\n",
        "            _, predicted = outputs.max(1)\n",
        "            \n",
        "            predictions.extend(predicted.cpu().numpy())\n",
        "            labels_list.extend(labels.cpu().numpy())\n",
        "\n",
        "    return predictions, labels_list\n",
        "\n",
        "predictions, labels = predict(model, test_dataloader, device)\n",
        "print('LSTM Model',classification_report(labels, predictions, target_names=['neg', 'pos']))\n"
      ]
    },
    {
      "cell_type": "code",
      "execution_count": null,
      "metadata": {
        "id": "04V4oL7MxKLP"
      },
      "outputs": [],
      "source": [
        "import torch.nn as nn\n",
        "\n",
        "class SimpleGRU(nn.Module):\n",
        "    def __init__(self, vocab_size, embedding_dim, hidden_dim, output_dim):\n",
        "        super(SimpleGRU, self).__init__()\n",
        "        self.embedding = nn.Embedding(vocab_size, embedding_dim)\n",
        "        self.rnn = nn.GRU(embedding_dim, hidden_dim, batch_first=True)\n",
        "        self.fc = nn.Linear(hidden_dim, output_dim)\n",
        "        \n",
        "    def forward(self, x):\n",
        "        x = self.embedding(x)\n",
        "        x, _ = self.rnn(x)\n",
        "        x = self.fc(x[:, -1, :])\n",
        "        return x\n",
        "vocab_size = len(train_dataset.vocab)\n",
        "embedding_dim = 128\n",
        "hidden_dim = 256\n",
        "output_dim = 2\n",
        "\n",
        "model = SimpleGRU(vocab_size, embedding_dim, hidden_dim, output_dim)"
      ]
    },
    {
      "cell_type": "code",
      "execution_count": null,
      "metadata": {
        "id": "7haMQTXJxKLP",
        "outputId": "07267422-7753-4fbd-d67e-9ec7fe769160"
      },
      "outputs": [
        {
          "name": "stderr",
          "output_type": "stream",
          "text": [
            "100%|██████████| 313/313 [44:49<00:00,  8.59s/it]\n",
            "100%|██████████| 110/110 [01:35<00:00,  1.15it/s]\n"
          ]
        },
        {
          "name": "stdout",
          "output_type": "stream",
          "text": [
            "Epoch 1/5, Train Loss: 0.6991, Train Acc: 50.31%, Val Loss: 0.6971, Val Acc: 49.97%\n"
          ]
        },
        {
          "name": "stderr",
          "output_type": "stream",
          "text": [
            "100%|██████████| 313/313 [41:11<00:00,  7.89s/it] \n",
            "100%|██████████| 110/110 [01:39<00:00,  1.10it/s]\n"
          ]
        },
        {
          "name": "stdout",
          "output_type": "stream",
          "text": [
            "Epoch 2/5, Train Loss: 0.6942, Train Acc: 50.12%, Val Loss: 0.6935, Val Acc: 50.21%\n"
          ]
        },
        {
          "name": "stderr",
          "output_type": "stream",
          "text": [
            "100%|██████████| 313/313 [21:03<00:00,  4.04s/it]\n",
            "100%|██████████| 110/110 [01:42<00:00,  1.07it/s]\n"
          ]
        },
        {
          "name": "stdout",
          "output_type": "stream",
          "text": [
            "Epoch 3/5, Train Loss: 0.6582, Train Acc: 59.76%, Val Loss: 0.5123, Val Acc: 77.20%\n"
          ]
        },
        {
          "name": "stderr",
          "output_type": "stream",
          "text": [
            "100%|██████████| 313/313 [18:03<00:00,  3.46s/it]\n",
            "100%|██████████| 110/110 [01:38<00:00,  1.11it/s]\n"
          ]
        },
        {
          "name": "stdout",
          "output_type": "stream",
          "text": [
            "Epoch 4/5, Train Loss: 0.3552, Train Acc: 85.58%, Val Loss: 0.2594, Val Acc: 90.12%\n"
          ]
        },
        {
          "name": "stderr",
          "output_type": "stream",
          "text": [
            "100%|██████████| 313/313 [17:56<00:00,  3.44s/it]\n",
            "100%|██████████| 110/110 [01:41<00:00,  1.08it/s]\n"
          ]
        },
        {
          "name": "stdout",
          "output_type": "stream",
          "text": [
            "Epoch 5/5, Train Loss: 0.1783, Train Acc: 93.53%, Val Loss: 0.2011, Val Acc: 92.74%\n"
          ]
        },
        {
          "name": "stderr",
          "output_type": "stream",
          "text": [
            "100%|██████████| 109/109 [01:45<00:00,  1.04it/s]"
          ]
        },
        {
          "name": "stdout",
          "output_type": "stream",
          "text": [
            "GRU Model               precision    recall  f1-score   support\n",
            "\n",
            "         neg       0.92      0.95      0.93      3449\n",
            "         pos       0.95      0.92      0.93      3480\n",
            "\n",
            "    accuracy                           0.93      6929\n",
            "   macro avg       0.93      0.93      0.93      6929\n",
            "weighted avg       0.93      0.93      0.93      6929\n",
            "\n"
          ]
        },
        {
          "name": "stderr",
          "output_type": "stream",
          "text": [
            "\n"
          ]
        }
      ],
      "source": [
        "import torch.optim as optim\n",
        "from tqdm import tqdm\n",
        "\n",
        "device = torch.device('cuda' if torch.cuda.is_available() else 'cpu')\n",
        "model.to(device)\n",
        "criterion = nn.CrossEntropyLoss()\n",
        "optimizer = optim.Adam(model.parameters(), lr=0.001)\n",
        "num_epochs = 5\n",
        "\n",
        "def train(model, dataloader, criterion, optimizer, device):\n",
        "    model.train()\n",
        "    running_loss = 0.0\n",
        "    correct = 0\n",
        "    total = 0\n",
        "    \n",
        "    for inputs, labels in tqdm(dataloader):\n",
        "        inputs = inputs.to(device)\n",
        "        labels = labels.to(device)\n",
        "        \n",
        "        optimizer.zero_grad()\n",
        "        outputs = model(inputs)\n",
        "        \n",
        "        loss = criterion(outputs, labels)\n",
        "        loss.backward()\n",
        "        optimizer.step()\n",
        "        \n",
        "        running_loss += loss.item()\n",
        "        _, predicted = outputs.max(1)\n",
        "        total += labels.size(0)\n",
        "        correct += predicted.eq(labels).sum().item()\n",
        "\n",
        "    train_loss = running_loss / len(dataloader)\n",
        "    train_acc = 100. * correct / total\n",
        "    return train_loss, train_acc\n",
        "\n",
        "def evaluate(model, dataloader, criterion, device):\n",
        "    model.eval()\n",
        "    running_loss = 0.0\n",
        "    correct = 0\n",
        "    total = 0\n",
        "    \n",
        "    with torch.no_grad():\n",
        "        for inputs, labels in tqdm(dataloader):\n",
        "            inputs = inputs.to(device)\n",
        "            labels = labels.to(device)\n",
        "            \n",
        "            outputs = model(inputs)\n",
        "            loss = criterion(outputs, labels)\n",
        "            \n",
        "            running_loss += loss.item()\n",
        "            _, predicted = outputs.max(1)\n",
        "            total += labels.size(0)\n",
        "            correct += predicted.eq(labels).sum().item()\n",
        "\n",
        "    val_loss = running_loss / len(dataloader)\n",
        "    val_acc = 100. * correct / total\n",
        "    return val_loss, val_acc\n",
        "\n",
        "for epoch in range(num_epochs):\n",
        "    train_loss, train_acc = train(model, train_dataloader, criterion, optimizer, device)\n",
        "    val_loss, val_acc = evaluate(model, val_dataloader, criterion, device)\n",
        "    print(f'Epoch {epoch+1}/{num_epochs}, Train Loss: {train_loss:.4f}, Train Acc: {train_acc:.2f}%, Val Loss: {val_loss:.4f}, Val Acc: {val_acc:.2f}%')\n",
        "\n",
        "from sklearn.metrics import classification_report\n",
        "\n",
        "def predict(model, dataloader, device):\n",
        "    model.eval()\n",
        "    predictions = []\n",
        "    labels_list = []\n",
        "\n",
        "    with torch.no_grad():\n",
        "        for inputs, labels in tqdm(dataloader):\n",
        "            inputs = inputs.to(device)\n",
        "            labels = labels.to(device)\n",
        "            \n",
        "            outputs = model(inputs)\n",
        "            _, predicted = outputs.max(1)\n",
        "            \n",
        "            predictions.extend(predicted.cpu().numpy())\n",
        "            labels_list.extend(labels.cpu().numpy())\n",
        "\n",
        "    return predictions, labels_list\n",
        "\n",
        "predictions, labels = predict(model, test_dataloader, device)\n",
        "print('GRU Model',classification_report(labels, predictions, target_names=['neg', 'pos']))\n"
      ]
    },
    {
      "cell_type": "code",
      "execution_count": null,
      "metadata": {
        "id": "H5aE5YAbxKLQ"
      },
      "outputs": [],
      "source": [
        "import torch.nn as nn\n",
        "\n",
        "class BiLSTM(nn.Module):\n",
        "    def __init__(self, vocab_size, embedding_dim, hidden_dim, output_dim, num_layers=3, bidirectional=True, dropout=0.5):\n",
        "        super(BiLSTM, self).__init__()\n",
        "        self.embedding = nn.Embedding(vocab_size, embedding_dim)\n",
        "        self.lstm = nn.LSTM(embedding_dim, hidden_dim, num_layers=num_layers, batch_first=True, bidirectional=bidirectional, dropout=dropout)\n",
        "        self.fc = nn.Linear(hidden_dim * 2 if bidirectional else hidden_dim, output_dim)\n",
        "        \n",
        "    def forward(self, x):\n",
        "        x = self.embedding(x)\n",
        "        x, _ = self.lstm(x)\n",
        "        x = self.fc(x[:, -1, :])\n",
        "        return x\n",
        "vocab_size = len(train_dataset.vocab)\n",
        "embedding_dim = 128\n",
        "hidden_dim = 256\n",
        "output_dim = 2\n",
        "num_layers = 3\n",
        "bidirectional = True\n",
        "dropout = 0.5\n",
        "\n",
        "model = BiLSTM(vocab_size, embedding_dim, hidden_dim, output_dim, num_layers=num_layers, bidirectional=bidirectional, dropout=dropout)"
      ]
    },
    {
      "cell_type": "code",
      "execution_count": null,
      "metadata": {
        "id": "EQMEemVzxKLQ",
        "outputId": "309408b8-8c28-4795-9397-7d1e7aeec205"
      },
      "outputs": [
        {
          "name": "stderr",
          "output_type": "stream",
          "text": [
            "100%|██████████| 4/4 [03:19<00:00, 49.89s/it]\n",
            "100%|██████████| 4/4 [00:25<00:00,  6.30s/it]\n"
          ]
        },
        {
          "name": "stdout",
          "output_type": "stream",
          "text": [
            "Epoch 1/5, Train Loss: 0.7007, Train Acc: 49.50%, Val Loss: 0.7090, Val Acc: 50.00%\n"
          ]
        },
        {
          "name": "stderr",
          "output_type": "stream",
          "text": [
            "100%|██████████| 4/4 [03:49<00:00, 57.30s/it]\n",
            "100%|██████████| 4/4 [00:25<00:00,  6.48s/it]\n"
          ]
        },
        {
          "name": "stdout",
          "output_type": "stream",
          "text": [
            "Epoch 2/5, Train Loss: 0.6968, Train Acc: 50.50%, Val Loss: 0.6935, Val Acc: 48.50%\n"
          ]
        },
        {
          "name": "stderr",
          "output_type": "stream",
          "text": [
            "100%|██████████| 4/4 [04:34<00:00, 68.65s/it] \n",
            "100%|██████████| 4/4 [00:28<00:00,  7.00s/it]\n"
          ]
        },
        {
          "name": "stdout",
          "output_type": "stream",
          "text": [
            "Epoch 3/5, Train Loss: 0.7031, Train Acc: 44.50%, Val Loss: 0.7109, Val Acc: 50.00%\n"
          ]
        },
        {
          "name": "stderr",
          "output_type": "stream",
          "text": [
            "100%|██████████| 4/4 [04:09<00:00, 62.49s/it] \n",
            "100%|██████████| 4/4 [00:27<00:00,  6.90s/it]\n"
          ]
        },
        {
          "name": "stdout",
          "output_type": "stream",
          "text": [
            "Epoch 4/5, Train Loss: 0.6974, Train Acc: 48.50%, Val Loss: 0.7007, Val Acc: 50.00%\n"
          ]
        },
        {
          "name": "stderr",
          "output_type": "stream",
          "text": [
            "100%|██████████| 4/4 [04:15<00:00, 63.83s/it]\n",
            "100%|██████████| 4/4 [00:22<00:00,  5.67s/it]\n"
          ]
        },
        {
          "name": "stdout",
          "output_type": "stream",
          "text": [
            "Epoch 5/5, Train Loss: 0.6977, Train Acc: 48.50%, Val Loss: 0.6952, Val Acc: 50.00%\n"
          ]
        },
        {
          "name": "stderr",
          "output_type": "stream",
          "text": [
            "100%|██████████| 4/4 [00:19<00:00,  4.98s/it]"
          ]
        },
        {
          "name": "stdout",
          "output_type": "stream",
          "text": [
            "Bi-directional LSTM Model               precision    recall  f1-score   support\n",
            "\n",
            "         neg       0.50      1.00      0.67       100\n",
            "         pos       0.00      0.00      0.00       100\n",
            "\n",
            "    accuracy                           0.50       200\n",
            "   macro avg       0.25      0.50      0.33       200\n",
            "weighted avg       0.25      0.50      0.33       200\n",
            "\n"
          ]
        },
        {
          "name": "stderr",
          "output_type": "stream",
          "text": [
            "\n",
            "c:\\ProgramData\\Anaconda3\\lib\\site-packages\\sklearn\\metrics\\_classification.py:1318: UndefinedMetricWarning: Precision and F-score are ill-defined and being set to 0.0 in labels with no predicted samples. Use `zero_division` parameter to control this behavior.\n",
            "  _warn_prf(average, modifier, msg_start, len(result))\n",
            "c:\\ProgramData\\Anaconda3\\lib\\site-packages\\sklearn\\metrics\\_classification.py:1318: UndefinedMetricWarning: Precision and F-score are ill-defined and being set to 0.0 in labels with no predicted samples. Use `zero_division` parameter to control this behavior.\n",
            "  _warn_prf(average, modifier, msg_start, len(result))\n",
            "c:\\ProgramData\\Anaconda3\\lib\\site-packages\\sklearn\\metrics\\_classification.py:1318: UndefinedMetricWarning: Precision and F-score are ill-defined and being set to 0.0 in labels with no predicted samples. Use `zero_division` parameter to control this behavior.\n",
            "  _warn_prf(average, modifier, msg_start, len(result))\n"
          ]
        }
      ],
      "source": [
        "import torch.optim as optim\n",
        "from tqdm import tqdm\n",
        "\n",
        "device = torch.device('cuda' if torch.cuda.is_available() else 'cpu')\n",
        "model.to(device)\n",
        "criterion = nn.CrossEntropyLoss()\n",
        "optimizer = optim.Adam(model.parameters(), lr=0.001)\n",
        "num_epochs = 5\n",
        "\n",
        "def train(model, dataloader, criterion, optimizer, device):\n",
        "    model.train()\n",
        "    running_loss = 0.0\n",
        "    correct = 0\n",
        "    total = 0\n",
        "    \n",
        "    for inputs, labels in tqdm(dataloader):\n",
        "        inputs = inputs.to(device)\n",
        "        labels = labels.to(device)\n",
        "        \n",
        "        optimizer.zero_grad()\n",
        "        outputs = model(inputs)\n",
        "        \n",
        "        loss = criterion(outputs, labels)\n",
        "        loss.backward()\n",
        "        optimizer.step()\n",
        "        \n",
        "        running_loss += loss.item()\n",
        "        _, predicted = outputs.max(1)\n",
        "        total += labels.size(0)\n",
        "        correct += predicted.eq(labels).sum().item()\n",
        "\n",
        "    train_loss = running_loss / len(dataloader)\n",
        "    train_acc = 100. * correct / total\n",
        "    return train_loss, train_acc\n",
        "\n",
        "def evaluate(model, dataloader, criterion, device):\n",
        "    model.eval()\n",
        "    running_loss = 0.0\n",
        "    correct = 0\n",
        "    total = 0\n",
        "    \n",
        "    with torch.no_grad():\n",
        "        for inputs, labels in tqdm(dataloader):\n",
        "            inputs = inputs.to(device)\n",
        "            labels = labels.to(device)\n",
        "            \n",
        "            outputs = model(inputs)\n",
        "            loss = criterion(outputs, labels)\n",
        "            \n",
        "            running_loss += loss.item()\n",
        "            _, predicted = outputs.max(1)\n",
        "            total += labels.size(0)\n",
        "            correct += predicted.eq(labels).sum().item()\n",
        "\n",
        "    val_loss = running_loss / len(dataloader)\n",
        "    val_acc = 100. * correct / total\n",
        "    return val_loss, val_acc\n",
        "\n",
        "for epoch in range(num_epochs):\n",
        "    train_loss, train_acc = train(model, train_dataloader, criterion, optimizer, device)\n",
        "    val_loss, val_acc = evaluate(model, val_dataloader, criterion, device)\n",
        "    print(f'Epoch {epoch+1}/{num_epochs}, Train Loss: {train_loss:.4f}, Train Acc: {train_acc:.2f}%, Val Loss: {val_loss:.4f}, Val Acc: {val_acc:.2f}%')\n",
        "\n",
        "from sklearn.metrics import classification_report\n",
        "\n",
        "def predict(model, dataloader, device):\n",
        "    model.eval()\n",
        "    predictions = []\n",
        "    labels_list = []\n",
        "\n",
        "    with torch.no_grad():\n",
        "        for inputs, labels in tqdm(dataloader):\n",
        "            inputs = inputs.to(device)\n",
        "            labels = labels.to(device)\n",
        "            \n",
        "            outputs = model(inputs)\n",
        "            _, predicted = outputs.max(1)\n",
        "            \n",
        "            predictions.extend(predicted.cpu().numpy())\n",
        "            labels_list.extend(labels.cpu().numpy())\n",
        "\n",
        "    return predictions, labels_list\n",
        "\n",
        "predictions, labels = predict(model, test_dataloader, device)\n",
        "print('Bi-directional LSTM Model',classification_report(labels, predictions, target_names=['neg', 'pos']))\n"
      ]
    }
  ],
  "metadata": {
    "kernelspec": {
      "display_name": "translator_env2",
      "language": "python",
      "name": "python3"
    },
    "language_info": {
      "codemirror_mode": {
        "name": "ipython",
        "version": 3
      },
      "file_extension": ".py",
      "mimetype": "text/x-python",
      "name": "python",
      "nbconvert_exporter": "python",
      "pygments_lexer": "ipython3",
      "version": "3.9.12"
    },
    "orig_nbformat": 4,
    "colab": {
      "provenance": []
    }
  },
  "nbformat": 4,
  "nbformat_minor": 0
}